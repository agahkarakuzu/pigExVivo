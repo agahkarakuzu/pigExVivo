{
 "cells": [
  {
   "cell_type": "code",
   "execution_count": 171,
   "metadata": {},
   "outputs": [
    {
     "name": "stdout",
     "output_type": "stream",
     "text": [
      "93\n",
      "86\n",
      "(10, 93, 86)\n"
     ]
    }
   ],
   "source": [
    "import plotly.plotly as py\n",
    "from plotly.grid_objs import Grid, Column\n",
    "import plotly\n",
    "import time\n",
    "import numpy as np\n",
    "import scipy.io\n",
    "from scipy.io import loadmat\n",
    "from skimage import io\n",
    "\n",
    "plotly.tools.set_credentials_file(username='agkar', api_key='AV6dwYS5rqVb1q3QXQNH')\n",
    "#vol = io.imread(\"https://s3.amazonaws.com/assets.datacamp.com/blog_assets/attention-mri.tif\")\n",
    "mat = loadmat('lek.mat')\n",
    "\n",
    "volume = np.squeeze(np.array(mat['lek']))\n",
    "r, c = volume[0].shape\n",
    "\n",
    "print(r)\n",
    "print(c)\n",
    "print(volume.shape)"
   ]
  },
  {
   "cell_type": "code",
   "execution_count": 211,
   "metadata": {
    "code_folding": [],
    "run_control": {
     "marked": false
    }
   },
   "outputs": [
    {
     "data": {
      "application/vnd.jupyter.widget-view+json": {
       "model_id": "2ac379daa5f247b18099a1f5b6529bfd"
      }
     },
     "metadata": {},
     "output_type": "display_data"
    },
    {
     "data": {
      "text/plain": [
       "<function __main__.f>"
      ]
     },
     "execution_count": 211,
     "metadata": {},
     "output_type": "execute_result"
    }
   ],
   "source": [
    "from ipywidgets import interact, interactive, fixed, interact_manual\n",
    "import ipywidgets as widgets\n",
    "import matplotlib.pyplot as plt\n",
    "import matplotlib.cm as cm\n",
    "import matplotlib.image as mpimg\n",
    "import matplotlib as mpl\n",
    "\n",
    "irColor = rgb(214,39,40)\n",
    "\n",
    "mat = loadmat('hr2Data.mat')\n",
    "\n",
    "volSasha = np.squeeze(np.array(mat['sashaSer']))\n",
    "volMolli = np.squeeze(np.array(mat['molliSer']))\n",
    "volShmolli = np.squeeze(np.array(mat['shmolliSer']))\n",
    "volIR = np.squeeze(np.array(mat['irSer']))\n",
    "\n",
    "def reverse_colourmap(cmap, name = 'my_cmap_r'):\n",
    "    \n",
    "    reverse = []\n",
    "    k = []   \n",
    "\n",
    "    for key in cmap._segmentdata:    \n",
    "        k.append(key)\n",
    "        channel = cmap._segmentdata[key]\n",
    "        data = []\n",
    "\n",
    "        for t in channel:                    \n",
    "            data.append((1-t[0],t[2],t[1]))            \n",
    "        reverse.append(sorted(data))    \n",
    "\n",
    "    LinearL = dict(zip(k,reverse))\n",
    "    my_cmap_r = mpl.colors.LinearSegmentedColormap(name, LinearL) \n",
    "    return my_cmap_r\n",
    "\n",
    "cmap = cm.gist_stern\n",
    "cmap_r = reverse_colourmap(cmap)\n",
    "\n",
    "\n",
    "def f(Week):\n",
    "    x = Week\n",
    "    clr = cmap_r\n",
    "    plt.figure(figsize=(4, 4))\n",
    "    #plt.tight_layout()\n",
    "    if x<4:\n",
    "        mn = 700\n",
    "        mx = 1400\n",
    "    else:\n",
    "        mn = 400\n",
    "        mx = 1200\n",
    "      \n",
    " \n",
    "    ax4 = plt.subplot(221)\n",
    "    imgplot = plt.imshow(volIR[:,:,x-1])\n",
    "    imgplot.set_cmap(clr)\n",
    "    imgplot.set_clim(mn,mx)\n",
    "    ax4.set_xticks([])\n",
    "    ax4.set_yticks([])\n",
    "    ax4.set_title('Ground Truth IR')\n",
    "    ax1 = plt.subplot(222)\n",
    "    imgplot = plt.imshow(volSasha[:,:,x-1])\n",
    "    imgplot.set_cmap(clr)\n",
    "    ax1.set_xticks([])\n",
    "    ax1.set_yticks([])\n",
    "    ax1.set_title('SASHA')\n",
    "    imgplot.set_clim(mn,mx)\n",
    "    ax2 = plt.subplot(223)\n",
    "    imgplot = plt.imshow(volMolli[:,:,x-1])\n",
    "    imgplot.set_cmap(clr)\n",
    "    ax2.set_xticks([])\n",
    "    ax2.set_yticks([])\n",
    "    ax2.set_title('MOLLI')\n",
    "    imgplot.set_clim(mn,mx)\n",
    "    ax3 = plt.subplot(224)\n",
    "    imgplot = plt.imshow(volShmolli[:,:,x-1])\n",
    "    imgplot.set_cmap(clr)\n",
    "    imgplot.set_clim(mn,mx)\n",
    "    ax3.set_xticks([])\n",
    "    ax3.set_yticks([])\n",
    "    ax3.set_title('SHMOLLI')\n",
    "    cax = plt.axes([0.95, 0.25, 0.035, 0.5])\n",
    "    plt.colorbar(cax=cax)\n",
    "    plt.tight_layout()\n",
    "    plt.clim(mn, mx)\n",
    "    plt.show()  \n",
    "    return Week\n",
    "\n",
    "interact(f, Week =widgets.IntSlider(min=1,max=6,step=1,value=1))\n",
    "         "
   ]
  },
  {
   "cell_type": "code",
   "execution_count": 20,
   "metadata": {
    "collapsed": true
   },
   "outputs": [],
   "source": [
    "my_columns = []\n",
    "nr_frames = 10\n",
    "for k in range(nr_frames):\n",
    "    my_columns.extend(\n",
    "        [Column((0.9 - k * 0.1) * np.ones((r, c)), 'z{}'.format(k + 1)),\n",
    "         Column(np.flipud(volume[9 - k]), 'surfc{}'.format(k + 1))]\n",
    "    )\n",
    "grid = Grid(my_columns)\n",
    "#py.grid_ops.upload(grid, 'anim_sliceshead'+str(time.time()), auto_open=False)"
   ]
  },
  {
   "cell_type": "code",
   "execution_count": 30,
   "metadata": {},
   "outputs": [
    {
     "name": "stdout",
     "output_type": "stream",
     "text": [
      "{'data': [{'zsrc': '', 'surfacecolorsrc': ''}], 'name': 'frame1'}\n"
     ]
    }
   ],
   "source": [
    "data=[\n",
    "    dict(\n",
    "        type='surface', \n",
    "        zsrc=grid.get_column_reference('z1'),\n",
    "        surfacecolorsrc=grid.get_column_reference('surfc1'),\n",
    "        colorscale=pl_bone,\n",
    "        colorbar=dict(thickness=20, ticklen=4)\n",
    "    )\n",
    "]\n",
    "\n",
    "frames=[]\n",
    "for k in range(nr_frames):\n",
    "    frames.append(\n",
    "        dict(\n",
    "            data=[dict(zsrc=grid.get_column_reference('z{}'.format(k + 1)),\n",
    "                       surfacecolorsrc=grid.get_column_reference('surfc{}'.format(k + 1)))],\n",
    "            name='frame{}'.format(k + 1)\n",
    "        )\n",
    "    )\n",
    "\n",
    "sliders=[\n",
    "    dict(\n",
    "        steps=[dict(method='animate',\n",
    "                    args= [['frame{}'.format(k + 1)],\n",
    "                            dict(mode='immediate',\n",
    "                                 frame= dict(duration=70, redraw= False),\n",
    "                                 transition=dict(duration=0))],\n",
    "                    label='{:d}'.format(k+1)) for k in range(68)], \n",
    "        transition= dict(duration=0),\n",
    "        x=0,\n",
    "        y=0, \n",
    "        currentvalue=dict(font=dict(size=12), \n",
    "                          prefix='slice: ', \n",
    "                          visible=True, \n",
    "                          xanchor='center'\n",
    "                         ),  \n",
    "        len=1.0\n",
    "    )\n",
    "]\n",
    "\n",
    "axis3d = dict(\n",
    "    showbackground=True, \n",
    "    backgroundcolor=\"rgb(230, 230,230)\",\n",
    "    gridcolor=\"rgb(255, 255, 255)\",      \n",
    "    zerolinecolor=\"rgb(255, 255, 255)\",  \n",
    ")\n",
    "\n",
    "layout3d = dict(\n",
    "         title='Slices in volumetric data', \n",
    "         font=dict(family='Balto'),\n",
    "         width=600,\n",
    "         height=600,\n",
    "         scene=dict(xaxis=(axis3d),\n",
    "                    yaxis=(axis3d), \n",
    "                    zaxis=dict(axis3d, **dict(range=[-0.1, 6.8], autorange=False)), \n",
    "                    aspectratio=dict(x=1, y=1, z=1),\n",
    "                    ),\n",
    "         updatemenus=[\n",
    "             dict(type='buttons',\n",
    "                  showactive=False,\n",
    "                  y=1,\n",
    "                  x=1.3,\n",
    "                  xanchor='right',\n",
    "                  yanchor='top',\n",
    "                  pad=dict(t=0, r=10),\n",
    "                  buttons=[dict(label='Play',\n",
    "                                method='animate',\n",
    "                                args=[\n",
    "                                    None, \n",
    "                                    dict(frame=dict(duration=70, redraw=False),\n",
    "                                         transition=dict(duration=0),\n",
    "                                         fromcurrent=True,\n",
    "                                         mode='immediate')\n",
    "                                ])])\n",
    "         ],\n",
    "        sliders=sliders\n",
    ")\n",
    "\n",
    "print((frames[0]))"
   ]
  },
  {
   "cell_type": "markdown",
   "metadata": {},
   "source": [
    "<i class=\"fa fa-comment\" style=\"font-size: 3em;\"></i> &nbsp; ** What about IR? **\n",
    "\n",
    "Fixation caused significant changes in MTR and T2 values. (Nonparametric Wilcoxon signed rank for paired differences). \n",
    "\n",
    "Fixation did not cause an observable change in IR’s response to the T2 ((**r**pre = -0.16, **r**post = -0.08). Whereas its response to MTR changed from r = 0.25 to r=0.67. _This may be expected due to fixation induced collagen cross-linking. Plausibly, parasite MTR is more responsive to such changes in macromolecular content than parasite T2. (There is a paper)_ \n",
    "\n",
    "So what about changes in bias? If we know that MTR and T2 significantly changes, then different bivariate responses should have been driven by changes in bias due to fixation. \n",
    "\n",
    "***SASHA: p<0.0001 |** \n",
    "**MOLLI: p =0.61 |**\n",
    "**SHMOLLI p = 0.30**\n",
    "\n",
    "Fixation induced change in MTR is significant. Whereas bias in MOLLI and SHMOLLI did not respond to pre-post fixation MTR change (asserted cause for better clinical use), but that of SASHA did.\n"
   ]
  },
  {
   "cell_type": "code",
   "execution_count": null,
   "metadata": {
    "collapsed": true
   },
   "outputs": [],
   "source": [
    "print(df.shape)"
   ]
  }
 ],
 "metadata": {
  "kernelspec": {
   "display_name": "Python 2",
   "language": "python",
   "name": "python2"
  },
  "language_info": {
   "codemirror_mode": {
    "name": "ipython",
    "version": 2
   },
   "file_extension": ".py",
   "mimetype": "text/x-python",
   "name": "python",
   "nbconvert_exporter": "python",
   "pygments_lexer": "ipython2",
   "version": "2.7.13"
  },
  "toc": {
   "nav_menu": {},
   "number_sections": true,
   "sideBar": true,
   "skip_h1_title": false,
   "toc_cell": false,
   "toc_position": {},
   "toc_section_display": "block",
   "toc_window_display": false
  }
 },
 "nbformat": 4,
 "nbformat_minor": 2
}
