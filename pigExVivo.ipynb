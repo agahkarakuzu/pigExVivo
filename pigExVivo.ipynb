{
 "cells": [
  {
   "cell_type": "code",
   "execution_count": null,
   "metadata": {},
   "outputs": [],
   "source": [
    "%%javascript\n",
    "OutputArea.prototype._should_scroll = function(){return false}"
   ]
  },
  {
   "cell_type": "code",
   "execution_count": 43,
   "metadata": {
    "code_folding": [
     0,
     30,
     73,
     87,
     100,
     114,
     120
    ],
    "run_control": {
     "marked": true
    }
   },
   "outputs": [
    {
     "data": {
      "text/html": [
       "<iframe id=\"igraph\" scrolling=\"no\" style=\"border:none;\" seamless=\"seamless\" src=\"https://plot.ly/~agkar/18.embed\" height=\"525px\" width=\"100%\"></iframe>"
      ],
      "text/plain": [
       "<plotly.tools.PlotlyDisplay object>"
      ]
     },
     "execution_count": 43,
     "metadata": {},
     "output_type": "execute_result"
    }
   ],
   "source": [
    "# Click triangle to unfold\n",
    "import numpy as np\n",
    "import scipy.io\n",
    "from scipy.io import loadmat\n",
    "import plotly.plotly as py\n",
    "import plotly.graph_objs as go\n",
    "import ipywidgets as widgets\n",
    "from IPython.display import display, clear_output\n",
    "from __future__ import print_function\n",
    "from ipywidgets import interact, interactive, fixed, interact_manual, ToggleButtons, Layout, Button, Box, VBox, Label, HBox\n",
    "from collections import namedtuple\n",
    "import warnings\n",
    "warnings.filterwarnings('ignore')\n",
    "\n",
    "\n",
    "# Load data in native MATLAB/Octave format (.mat) \n",
    "# You can re-generate these files by running pigExVivo.m \n",
    "\n",
    "mat = loadmat('phantomData.mat', struct_as_record=False)\n",
    "phantomData = mat['phantomData'];\n",
    "\n",
    "mat = loadmat('pigMyocardium.mat', struct_as_record=False)\n",
    "pigMyocardium = mat['pigMyocardium'];\n",
    "\n",
    "\n",
    "#pigMyocardium(1).Week1.IRvec\n",
    "\n",
    "hr_iter = 5; # Iterator for hearts \n",
    "\n",
    "# This function returns mean T1 for given week (wk) averaged over hearts.\n",
    "def meanOnWeek(pigMyocardium,wk,method):\n",
    "    a = [];\n",
    "    for hr_iter in range(0,6):\n",
    "          exec('a.append(np.mean(np.array(pigMyocardium[0,hr_iter].Week' + str(wk) + '[0,0].' + method + 'vec)))')\n",
    "    return  [np.mean(a), np.std(a)]\n",
    "\n",
    "# This function returns mean & std (over hearts) for each week. \n",
    "def overWeek(pigMyocardium,method):\n",
    "    a = []\n",
    "    for j in range(0,6):\n",
    "        a.append(meanOnWeek(pigMyocardium,j+1,method))\n",
    "    return a\n",
    "    \n",
    "\n",
    "# Figure 1 \n",
    "\n",
    "overWeek_IR = overWeek(pigMyocardium,'IR')\n",
    "overWeek_MOLLI = overWeek(pigMyocardium,'MOLLI')\n",
    "overWeek_SHMOLLI = overWeek(pigMyocardium,'SHMOLLI')\n",
    "overWeek_SASHA = overWeek(pigMyocardium,'SASHA')\n",
    "\n",
    "irWeekly = go.Scatter(\n",
    "    x=[1, 2, 3, 4, 5, 6],\n",
    "    y=[overWeek_IR[0][0],overWeek_IR[1][0],overWeek_IR[2][0],overWeek_IR[3][0],overWeek_IR[4][0],overWeek_IR[5][0]],\n",
    "    name='IR',\n",
    "    marker={'size': \"12\"},\n",
    "    error_y=dict(\n",
    "            type='data',\n",
    "            array=[overWeek_IR[0][1],overWeek_IR[1][1],overWeek_IR[2][1],overWeek_IR[3][1],overWeek_IR[4][1],overWeek_IR[5][1]],\n",
    "            visible=True\n",
    "        ))\n",
    "molliWeekly = go.Scatter(\n",
    "    x=[1, 2, 3, 4, 5, 6],\n",
    "    y=[overWeek_MOLLI[0][0],overWeek_MOLLI[1][0],overWeek_MOLLI[2][0],overWeek_MOLLI[3][0],overWeek_MOLLI[4][0],overWeek_MOLLI[5][0]],\n",
    "    name='MOLLI',\n",
    "    marker={'size': \"12\"},\n",
    "    error_y=dict(\n",
    "            type='data',\n",
    "            array=[overWeek_MOLLI[0][1],overWeek_MOLLI[1][1],overWeek_MOLLI[2][1],overWeek_MOLLI[3][1],overWeek_MOLLI[4][1],overWeek_MOLLI[5][1]],\n",
    "            visible=True\n",
    "        ))\n",
    "    \n",
    "    \n",
    "shmolliWeekly = go.Scatter(\n",
    "    x=[1, 2, 3, 4, 5, 6],\n",
    "    y=[overWeek_SHMOLLI[0][0],overWeek_SHMOLLI[1][0],overWeek_SHMOLLI[2][0],overWeek_SHMOLLI[3][0],overWeek_SHMOLLI[4][0],overWeek_SHMOLLI[5][0]],\n",
    "    name='SHMOLLI',\n",
    "    marker={'size': \"12\"},\n",
    "    error_y=dict(\n",
    "            type='data',\n",
    "            array =[overWeek_SHMOLLI[0][1],overWeek_SHMOLLI[1][1],overWeek_SHMOLLI[2][1],overWeek_SHMOLLI[3][1],overWeek_SHMOLLI[4][1],overWeek_SHMOLLI[5][1]],\n",
    "            visible=True\n",
    "        ))\n",
    "    \n",
    "    \n",
    "    \n",
    "    \n",
    "sashaWeekly = go.Scatter(\n",
    "    x=[1, 2, 3, 4, 5, 6],\n",
    "    y=[overWeek_SASHA[0][0],overWeek_SASHA[1][0],overWeek_SASHA[2][0],overWeek_SASHA[3][0],overWeek_SASHA[4][0],overWeek_SASHA[5][0]],\n",
    "    name='SASHA',\n",
    "    marker={'size': \"12\"},\n",
    "    error_y=dict(\n",
    "            type='data',\n",
    "            array=[overWeek_SASHA[0][1],overWeek_SASHA[1][1],overWeek_SASHA[2][1],overWeek_SASHA[3][1],overWeek_SASHA[4][1],overWeek_SASHA[5][1]],\n",
    "            visible=True\n",
    "        ))\n",
    "\n",
    "layout=go.Layout(title=\"Figure 1: Evolution of T1 over time for all four sequences, before (lavender) and after (turquoise) fixation.\", xaxis={'title':'Week'}, yaxis={'title':'T1 values (ms)'})\n",
    "data = [molliWeekly, shmolliWeekly, sashaWeekly, irWeekly]\n",
    "layout.update(dict(shapes = [\n",
    "        # 1st highlight during Feb 4 - Feb 6\n",
    "        {\n",
    "            'type': 'rect',\n",
    "            # x-reference is assigned to the x-values\n",
    "            'xref': 'x',\n",
    "            # y-reference is assigned to the plot paper [0,1]\n",
    "            'yref': 'y',\n",
    "            'x0': '0.95',\n",
    "            'y0': 365,\n",
    "            'x1': '3.05',\n",
    "            'y1': 1300,\n",
    "            'fillcolor': '#c2cae8',\n",
    "            'opacity': 0.3,\n",
    "            'line': {\n",
    "                'width': 0,\n",
    "            }\n",
    "            \n",
    "        },\n",
    "    \n",
    "        {\n",
    "            'type': 'rect',\n",
    "            # x-reference is assigned to the x-values\n",
    "            'xref': 'x',\n",
    "            # y-reference is assigned to the plot paper [0,1]\n",
    "            'yref': 'y',\n",
    "            'x0': '3.95',\n",
    "            'y0': 365,\n",
    "            'x1': '6.05',\n",
    "            'y1': 1300,\n",
    "            'fillcolor': '#45f0df',\n",
    "            'opacity': 0.15,\n",
    "            'line': {\n",
    "                'width': 0,\n",
    "            }\n",
    "            \n",
    "        }\n",
    "    \n",
    "    \n",
    "        ]\n",
    "        ))\n",
    "py.iplot(go.Figure(data=data, layout=layout), filename='Figure1')\n",
    "\n",
    "\n"
   ]
  },
  {
   "cell_type": "code",
   "execution_count": 60,
   "metadata": {
    "code_folding": [
     0
    ],
    "run_control": {
     "marked": true
    }
   },
   "outputs": [
    {
     "data": {
      "text/html": [
       "<iframe id=\"igraph\" scrolling=\"no\" style=\"border:none;\" seamless=\"seamless\" src=\"https://plot.ly/~agkar/22.embed\" height=\"525px\" width=\"100%\"></iframe>"
      ],
      "text/plain": [
       "<plotly.tools.PlotlyDisplay object>"
      ]
     },
     "execution_count": 60,
     "metadata": {},
     "output_type": "execute_result"
    }
   ],
   "source": [
    "# Click triangle to unfold\n",
    "b4Fix_IR = np.array([overWeek_IR[0][0],overWeek_IR[1][0],overWeek_IR[2][0]])\n",
    "l8rFix_IR = np.array([overWeek_IR[3][0],overWeek_IR[4][0],overWeek_IR[5][0]])\n",
    "\n",
    "b4Fix_MOLLI = np.array([overWeek_MOLLI[0][0],overWeek_MOLLI[1][0],overWeek_MOLLI[2][0]])\n",
    "l8rFix_MOLLI = np.array([overWeek_MOLLI[3][0],overWeek_MOLLI[4][0],overWeek_MOLLI[5][0]])\n",
    "\n",
    "b4Fix_SHMOLLI = np.array([overWeek_SHMOLLI[0][0],overWeek_SHMOLLI[1][0],overWeek_SHMOLLI[2][0]])\n",
    "l8rFix_SHMOLLI = np.array([overWeek_SHMOLLI[3][0],overWeek_SHMOLLI[4][0],overWeek_SHMOLLI[5][0]])\n",
    "\n",
    "b4Fix_SASHA = np.array([overWeek_SASHA[0][0],overWeek_SASHA[1][0],overWeek_SASHA[2][0]])\n",
    "l8rFix_SASHA = np.array([overWeek_SASHA[3][0],overWeek_SASHA[4][0],overWeek_SASHA[5][0]])\n",
    "\n",
    "trace1 = go.Bar(\n",
    "    x=['MOLLI', 'SHMOLLI', 'SASHA'],\n",
    "    y=[np.mean(b4Fix_MOLLI-b4Fix_IR), np.mean(b4Fix_SHMOLLI-b4Fix_IR), np.mean(b4Fix_SASHA-b4Fix_IR)],\n",
    "    name='Before Fixation',\n",
    "    error_y=dict(\n",
    "        type='data',\n",
    "        array=[np.std(b4Fix_MOLLI-b4Fix_IR), np.std(b4Fix_SHMOLLI-b4Fix_IR), np.std(b4Fix_SASHA-b4Fix_IR)],\n",
    "        visible=True\n",
    "    )\n",
    ")\n",
    "trace2 = go.Bar(\n",
    "    x=['MOLLI', 'SHMOLLI', 'SASHA'],\n",
    "    y=[np.mean(l8rFix_MOLLI-l8rFix_IR), np.mean(l8rFix_SHMOLLI-l8rFix_IR), np.mean(l8rFix_SASHA-l8rFix_IR)],\n",
    "    name='After Fixation',\n",
    "    error_y=dict(\n",
    "        type='data',\n",
    "        array=[np.std(l8rFix_MOLLI-l8rFix_IR), np.std(l8rFix_SHMOLLI-l8rFix_IR), np.std(l8rFix_SASHA-l8rFix_IR)],\n",
    "        visible=True\n",
    "    )\n",
    ")\n",
    "data = [trace1, trace2]\n",
    "layout=go.Layout(title=\"Figure 1: Evolution of T1 over time for all four sequences, before (lavender) and after (turquoise) fixation.\", xaxis={'title':'Week'}, yaxis={'title':'T1 values (ms)'})\n",
    "\n",
    "layout = go.Layout(\n",
    "    barmode='group',\n",
    "    title='Figure 2: Comparison of T1 (ms) estimations by MOLLI, SHMOLLI and SASHA to that of by IR-TSE, before and after fixation.',\n",
    "    xaxis={'title':'Reference: IR-TSE'},\n",
    "    yaxis={'title':'T1 (ms) difference'}\n",
    "    \n",
    ")\n",
    "fig = go.Figure(data=data, layout=layout)\n",
    "py.iplot(go.Figure(data=data, layout=layout), filename='Figure2')\n",
    "\n",
    "    \n"
   ]
  },
  {
   "cell_type": "code",
   "execution_count": 129,
   "metadata": {
    "code_folding": [],
    "run_control": {
     "marked": false
    }
   },
   "outputs": [
    {
     "name": "stdout",
     "output_type": "stream",
     "text": [
      "This is the format of your plot grid:\n",
      "[ (1,1) x1,y1 ]\n",
      "\n"
     ]
    },
    {
     "ename": "PlotlyRequestError",
     "evalue": "Hi there, you've reached the threshold of 100 combined image exports and chart saves per day. If you need to raise your daily limit, consider upgrading to a Student or Personal Plan (see: https://plot.ly/products/cloud).",
     "output_type": "error",
     "traceback": [
      "\u001b[0;31m---------------------------------------------------------------------------\u001b[0m",
      "\u001b[0;31mPlotlyRequestError\u001b[0m                        Traceback (most recent call last)",
      "\u001b[0;32m<ipython-input-129-5c15b78b6fa2>\u001b[0m in \u001b[0;36m<module>\u001b[0;34m()\u001b[0m\n\u001b[1;32m     83\u001b[0m \u001b[0;34m\u001b[0m\u001b[0m\n\u001b[1;32m     84\u001b[0m \u001b[0mfig\u001b[0m\u001b[0;34m[\u001b[0m\u001b[0;34m'layout'\u001b[0m\u001b[0;34m]\u001b[0m\u001b[0;34m.\u001b[0m\u001b[0mupdate\u001b[0m\u001b[0;34m(\u001b[0m\u001b[0mheight\u001b[0m\u001b[0;34m=\u001b[0m\u001b[0;36m600\u001b[0m\u001b[0;34m,\u001b[0m \u001b[0mwidth\u001b[0m\u001b[0;34m=\u001b[0m\u001b[0;36m600\u001b[0m\u001b[0;34m,\u001b[0m\u001b[0mtitle\u001b[0m\u001b[0;34m=\u001b[0m\u001b[0;34m'Figure 3'\u001b[0m\u001b[0;34m)\u001b[0m\u001b[0;34m\u001b[0m\u001b[0m\n\u001b[0;32m---> 85\u001b[0;31m \u001b[0mpy\u001b[0m\u001b[0;34m.\u001b[0m\u001b[0miplot\u001b[0m\u001b[0;34m(\u001b[0m\u001b[0mfig\u001b[0m\u001b[0;34m,\u001b[0m \u001b[0mfilename\u001b[0m\u001b[0;34m=\u001b[0m\u001b[0;34m'stacked-subplots-shared-xaxes'\u001b[0m\u001b[0;34m)\u001b[0m\u001b[0;34m\u001b[0m\u001b[0m\n\u001b[0m\u001b[1;32m     86\u001b[0m \u001b[0;34m\u001b[0m\u001b[0m\n\u001b[1;32m     87\u001b[0m \u001b[0;34m\u001b[0m\u001b[0m\n",
      "\u001b[0;32m/Users/Agah/anaconda/lib/python2.7/site-packages/plotly/plotly/plotly.pyc\u001b[0m in \u001b[0;36miplot\u001b[0;34m(figure_or_data, **plot_options)\u001b[0m\n\u001b[1;32m    132\u001b[0m     \u001b[0;32mif\u001b[0m \u001b[0;34m'auto_open'\u001b[0m \u001b[0;32mnot\u001b[0m \u001b[0;32min\u001b[0m \u001b[0mplot_options\u001b[0m\u001b[0;34m:\u001b[0m\u001b[0;34m\u001b[0m\u001b[0m\n\u001b[1;32m    133\u001b[0m         \u001b[0mplot_options\u001b[0m\u001b[0;34m[\u001b[0m\u001b[0;34m'auto_open'\u001b[0m\u001b[0;34m]\u001b[0m \u001b[0;34m=\u001b[0m \u001b[0mFalse\u001b[0m\u001b[0;34m\u001b[0m\u001b[0m\n\u001b[0;32m--> 134\u001b[0;31m     \u001b[0murl\u001b[0m \u001b[0;34m=\u001b[0m \u001b[0mplot\u001b[0m\u001b[0;34m(\u001b[0m\u001b[0mfigure_or_data\u001b[0m\u001b[0;34m,\u001b[0m \u001b[0;34m**\u001b[0m\u001b[0mplot_options\u001b[0m\u001b[0;34m)\u001b[0m\u001b[0;34m\u001b[0m\u001b[0m\n\u001b[0m\u001b[1;32m    135\u001b[0m \u001b[0;34m\u001b[0m\u001b[0m\n\u001b[1;32m    136\u001b[0m     \u001b[0;32mif\u001b[0m \u001b[0misinstance\u001b[0m\u001b[0;34m(\u001b[0m\u001b[0mfigure_or_data\u001b[0m\u001b[0;34m,\u001b[0m \u001b[0mdict\u001b[0m\u001b[0;34m)\u001b[0m\u001b[0;34m:\u001b[0m\u001b[0;34m\u001b[0m\u001b[0m\n",
      "\u001b[0;32m/Users/Agah/anaconda/lib/python2.7/site-packages/plotly/plotly/plotly.pyc\u001b[0m in \u001b[0;36mplot\u001b[0;34m(figure_or_data, validate, **plot_options)\u001b[0m\n\u001b[1;32m    225\u001b[0m     \u001b[0mdata\u001b[0m \u001b[0;34m=\u001b[0m \u001b[0mfig\u001b[0m\u001b[0;34m.\u001b[0m\u001b[0mget\u001b[0m\u001b[0;34m(\u001b[0m\u001b[0;34m'data'\u001b[0m\u001b[0;34m,\u001b[0m \u001b[0;34m[\u001b[0m\u001b[0;34m]\u001b[0m\u001b[0;34m)\u001b[0m\u001b[0;34m\u001b[0m\u001b[0m\n\u001b[1;32m    226\u001b[0m     \u001b[0mplot_options\u001b[0m\u001b[0;34m[\u001b[0m\u001b[0;34m'layout'\u001b[0m\u001b[0;34m]\u001b[0m \u001b[0;34m=\u001b[0m \u001b[0mfig\u001b[0m\u001b[0;34m.\u001b[0m\u001b[0mget\u001b[0m\u001b[0;34m(\u001b[0m\u001b[0;34m'layout'\u001b[0m\u001b[0;34m,\u001b[0m \u001b[0;34m{\u001b[0m\u001b[0;34m}\u001b[0m\u001b[0;34m)\u001b[0m\u001b[0;34m\u001b[0m\u001b[0m\n\u001b[0;32m--> 227\u001b[0;31m     \u001b[0mresponse\u001b[0m \u001b[0;34m=\u001b[0m \u001b[0mv1\u001b[0m\u001b[0;34m.\u001b[0m\u001b[0mclientresp\u001b[0m\u001b[0;34m(\u001b[0m\u001b[0mdata\u001b[0m\u001b[0;34m,\u001b[0m \u001b[0;34m**\u001b[0m\u001b[0mplot_options\u001b[0m\u001b[0;34m)\u001b[0m\u001b[0;34m\u001b[0m\u001b[0m\n\u001b[0m\u001b[1;32m    228\u001b[0m \u001b[0;34m\u001b[0m\u001b[0m\n\u001b[1;32m    229\u001b[0m     \u001b[0;31m# Check if the url needs a secret key\u001b[0m\u001b[0;34m\u001b[0m\u001b[0;34m\u001b[0m\u001b[0m\n",
      "\u001b[0;32m/Users/Agah/anaconda/lib/python2.7/site-packages/plotly/api/v1/clientresp.pyc\u001b[0m in \u001b[0;36mclientresp\u001b[0;34m(data, **kwargs)\u001b[0m\n\u001b[1;32m     33\u001b[0m \u001b[0;34m\u001b[0m\u001b[0m\n\u001b[1;32m     34\u001b[0m     \u001b[0murl\u001b[0m \u001b[0;34m=\u001b[0m \u001b[0;34m'{plotly_domain}/clientresp'\u001b[0m\u001b[0;34m.\u001b[0m\u001b[0mformat\u001b[0m\u001b[0;34m(\u001b[0m\u001b[0;34m**\u001b[0m\u001b[0mcfg\u001b[0m\u001b[0;34m)\u001b[0m\u001b[0;34m\u001b[0m\u001b[0m\n\u001b[0;32m---> 35\u001b[0;31m     \u001b[0mresponse\u001b[0m \u001b[0;34m=\u001b[0m \u001b[0mrequest\u001b[0m\u001b[0;34m(\u001b[0m\u001b[0;34m'post'\u001b[0m\u001b[0;34m,\u001b[0m \u001b[0murl\u001b[0m\u001b[0;34m,\u001b[0m \u001b[0mdata\u001b[0m\u001b[0;34m=\u001b[0m\u001b[0mpayload\u001b[0m\u001b[0;34m)\u001b[0m\u001b[0;34m\u001b[0m\u001b[0m\n\u001b[0m\u001b[1;32m     36\u001b[0m \u001b[0;34m\u001b[0m\u001b[0m\n\u001b[1;32m     37\u001b[0m     \u001b[0;31m# Old functionality, just keeping it around.\u001b[0m\u001b[0;34m\u001b[0m\u001b[0;34m\u001b[0m\u001b[0m\n",
      "\u001b[0;32m/Users/Agah/anaconda/lib/python2.7/site-packages/plotly/api/v1/utils.pyc\u001b[0m in \u001b[0;36mrequest\u001b[0;34m(method, url, **kwargs)\u001b[0m\n\u001b[1;32m     84\u001b[0m         \u001b[0mcontent\u001b[0m \u001b[0;34m=\u001b[0m \u001b[0mresponse\u001b[0m\u001b[0;34m.\u001b[0m\u001b[0mcontent\u001b[0m \u001b[0;32mif\u001b[0m \u001b[0mresponse\u001b[0m \u001b[0;32melse\u001b[0m \u001b[0;34m'No content'\u001b[0m\u001b[0;34m\u001b[0m\u001b[0m\n\u001b[1;32m     85\u001b[0m         \u001b[0;32mraise\u001b[0m \u001b[0mexceptions\u001b[0m\u001b[0;34m.\u001b[0m\u001b[0mPlotlyRequestError\u001b[0m\u001b[0;34m(\u001b[0m\u001b[0mmessage\u001b[0m\u001b[0;34m,\u001b[0m \u001b[0mstatus_code\u001b[0m\u001b[0;34m,\u001b[0m \u001b[0mcontent\u001b[0m\u001b[0;34m)\u001b[0m\u001b[0;34m\u001b[0m\u001b[0m\n\u001b[0;32m---> 86\u001b[0;31m     \u001b[0mvalidate_response\u001b[0m\u001b[0;34m(\u001b[0m\u001b[0mresponse\u001b[0m\u001b[0;34m)\u001b[0m\u001b[0;34m\u001b[0m\u001b[0m\n\u001b[0m\u001b[1;32m     87\u001b[0m     \u001b[0;32mreturn\u001b[0m \u001b[0mresponse\u001b[0m\u001b[0;34m\u001b[0m\u001b[0m\n",
      "\u001b[0;32m/Users/Agah/anaconda/lib/python2.7/site-packages/plotly/api/v1/utils.pyc\u001b[0m in \u001b[0;36mvalidate_response\u001b[0;34m(response)\u001b[0m\n\u001b[1;32m     36\u001b[0m         \u001b[0mmessage\u001b[0m \u001b[0;34m=\u001b[0m \u001b[0mcontent\u001b[0m \u001b[0;32mif\u001b[0m \u001b[0mcontent\u001b[0m \u001b[0;32melse\u001b[0m \u001b[0;34m'No Content'\u001b[0m\u001b[0;34m\u001b[0m\u001b[0m\n\u001b[1;32m     37\u001b[0m \u001b[0;34m\u001b[0m\u001b[0m\n\u001b[0;32m---> 38\u001b[0;31m     \u001b[0;32mraise\u001b[0m \u001b[0mexceptions\u001b[0m\u001b[0;34m.\u001b[0m\u001b[0mPlotlyRequestError\u001b[0m\u001b[0;34m(\u001b[0m\u001b[0mmessage\u001b[0m\u001b[0;34m,\u001b[0m \u001b[0mstatus_code\u001b[0m\u001b[0;34m,\u001b[0m \u001b[0mcontent\u001b[0m\u001b[0;34m)\u001b[0m\u001b[0;34m\u001b[0m\u001b[0m\n\u001b[0m\u001b[1;32m     39\u001b[0m \u001b[0;34m\u001b[0m\u001b[0m\n\u001b[1;32m     40\u001b[0m \u001b[0;34m\u001b[0m\u001b[0m\n",
      "\u001b[0;31mPlotlyRequestError\u001b[0m: Hi there, you've reached the threshold of 100 combined image exports and chart saves per day. If you need to raise your daily limit, consider upgrading to a Student or Personal Plan (see: https://plot.ly/products/cloud)."
     ]
    }
   ],
   "source": [
    "# Scientific libraries\n",
    "from numpy import arange,array,ones\n",
    "from scipy import stats\n",
    "from plotly import tools\n",
    "\n",
    "\n",
    "# Generated linear fit\n",
    "\n",
    "def corPlot(xData,yData):\n",
    "# Creating the dataset, and generating the plot\n",
    "\n",
    "    slope, intercept, r_value, p_value, std_err = stats.linregress(xData,yData)\n",
    "    line = slope*xData+intercept\n",
    "\n",
    "    trace1 = go.Scatter(\n",
    "                      x=xData,\n",
    "                      y=yData,\n",
    "                      mode='markers',\n",
    "                      marker=go.Marker(color='rgb(255, 127, 14)'),\n",
    "                      name='Data'\n",
    "                      )\n",
    "\n",
    "    trace2 = go.Scatter(\n",
    "                      x=xData,\n",
    "                      y=line,\n",
    "                      mode='lines',\n",
    "                      marker=go.Marker(color='rgb(31, 119, 180)'),\n",
    "                      name='Fit'\n",
    "                      )\n",
    "    \n",
    "\n",
    "   \n",
    "    return trace1, trace2\n",
    "\n",
    "def meanOnPhantom(phantomData,method):\n",
    "    a = [];\n",
    "    for roi_iter in range(0,7):\n",
    "          exec('a.append(np.mean(np.array(phantomData[0,roi_iter].' +  method + 'vec)))')\n",
    "    return  np.array(a)\n",
    "\n",
    "phan_IR = meanOnPhantom(phantomData,'IR')\n",
    "phan_MTR = meanOnPhantom(phantomData,'MTR') \n",
    "phan_T2 = meanOnPhantom(phantomData,'T2')\n",
    "phan_MOLLI = meanOnPhantom(phantomData,'MOLLI') - phan_IR\n",
    "phan_SHMOLLI = meanOnPhantom(phantomData,'SHMOLLI') - phan_IR\n",
    "phan_SASHA = meanOnPhantom(phantomData,'SASHA') - phan_IR\n",
    "\n",
    "\n",
    "\n",
    "\n",
    "trace1, trace2 = corPlot(phan_MTR,phan_MOLLI)\n",
    "trace3, trace4= corPlot(phan_MTR,phan_SHMOLLI)\n",
    "trace5, trace6 = corPlot(phan_MTR, phan_SASHA)\n",
    "\n",
    "\n",
    "trace7, trace8 = corPlot(phan_MOLLI,phan_T2)\n",
    "trace9, trace10 = corPlot(phan_SHMOLLI,phan_T2)\n",
    "trace11, trace12 = corPlot(phan_SASHA,phan_T2)\n",
    "\n",
    "#data = [trace1, trace2, trace3, trace4, trace5, trace6]\n",
    "\n",
    "#fig = go.Figure(data=data)\n",
    "#py.iplot(fig, filename='stacked-subplots-shared-x-axis')\n",
    "\n",
    "fig = tools.make_subplots(rows=1, cols=1, \n",
    "                          shared_xaxes=True, shared_yaxes=True,\n",
    "                          vertical_spacing=0.001)\n",
    "\n",
    "fig.append_trace(trace5, 1, 1)\n",
    "fig.append_trace(trace6, 1, 1)\n",
    "fig.append_trace(trace3, 1, 1)\n",
    "fig.append_trace(trace4, 1, 1)\n",
    "fig.append_trace(trace1, 1, 1)\n",
    "fig.append_trace(trace2, 1, 1)\n",
    "\n",
    "#fig.append_trace(trace7, 1, 2)\n",
    "#fig.append_trace(trace8, 1, 2)\n",
    "#fig.append_trace(trace9, 2, 2)\n",
    "#fig.append_trace(trace10, 2, 2)\n",
    "#fig.append_trace(trace11, 3, 2)\n",
    "#fig.append_trace(trace12, 3, 2)\n",
    "\n",
    "\n",
    "fig['layout'].update(height=600, width=600,title='Figure 3')\n",
    "py.iplot(fig, filename='stacked-subplots-shared-xaxes')\n",
    "\n",
    "\n",
    "\n"
   ]
  },
  {
   "cell_type": "code",
   "execution_count": null,
   "metadata": {
    "collapsed": true
   },
   "outputs": [],
   "source": []
  },
  {
   "cell_type": "code",
   "execution_count": null,
   "metadata": {
    "collapsed": true
   },
   "outputs": [],
   "source": []
  },
  {
   "cell_type": "code",
   "execution_count": null,
   "metadata": {
    "collapsed": true
   },
   "outputs": [],
   "source": []
  },
  {
   "cell_type": "code",
   "execution_count": null,
   "metadata": {
    "collapsed": true
   },
   "outputs": [],
   "source": []
  }
 ],
 "metadata": {
  "kernelspec": {
   "display_name": "Python 2",
   "language": "python",
   "name": "python2"
  },
  "language_info": {
   "codemirror_mode": {
    "name": "ipython",
    "version": 2
   },
   "file_extension": ".py",
   "mimetype": "text/x-python",
   "name": "python",
   "nbconvert_exporter": "python",
   "pygments_lexer": "ipython2",
   "version": "2.7.13"
  },
  "toc": {
   "nav_menu": {},
   "number_sections": true,
   "sideBar": true,
   "skip_h1_title": false,
   "toc_cell": false,
   "toc_position": {},
   "toc_section_display": "block",
   "toc_window_display": false
  }
 },
 "nbformat": 4,
 "nbformat_minor": 2
}
